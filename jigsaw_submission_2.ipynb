{
 "cells": [
  {
   "cell_type": "code",
   "execution_count": 1,
   "id": "dded560c",
   "metadata": {
    "execution": {
     "iopub.execute_input": "2022-01-11T22:21:53.137672Z",
     "iopub.status.busy": "2022-01-11T22:21:53.136380Z",
     "iopub.status.idle": "2022-01-11T22:21:53.140644Z",
     "shell.execute_reply": "2022-01-11T22:21:53.141149Z"
    },
    "id": "cXMfytMkDEB1",
    "papermill": {
     "duration": 0.045593,
     "end_time": "2022-01-11T22:21:53.141493",
     "exception": false,
     "start_time": "2022-01-11T22:21:53.095900",
     "status": "completed"
    },
    "tags": []
   },
   "outputs": [],
   "source": [
    "#import pandas as pd\n",
    "#from google.colab import drive \n",
    "#drive.mount('/content/drive')\n",
    "#%cd /content/drive/My\\ Drive/\n",
    "#loc = '/content/drive/My Drive/'"
   ]
  },
  {
   "cell_type": "code",
   "execution_count": 2,
   "id": "db3f9fc8",
   "metadata": {
    "execution": {
     "iopub.execute_input": "2022-01-11T22:21:53.216633Z",
     "iopub.status.busy": "2022-01-11T22:21:53.215974Z",
     "iopub.status.idle": "2022-01-11T22:21:55.055128Z",
     "shell.execute_reply": "2022-01-11T22:21:55.055603Z"
    },
    "id": "YVbSC0J5DE4T",
    "papermill": {
     "duration": 1.878078,
     "end_time": "2022-01-11T22:21:55.055802",
     "exception": false,
     "start_time": "2022-01-11T22:21:53.177724",
     "status": "completed"
    },
    "tags": []
   },
   "outputs": [],
   "source": [
    "import pandas as pd\n",
    "import numpy as np\n",
    "from collections import Counter\n",
    "import string\n",
    "import re\n",
    "from tqdm import tqdm\n",
    "from textblob import TextBlob\n",
    "from urllib.error import HTTPError\n",
    "import nltk\n",
    "import pickle\n",
    "from sklearn.decomposition import PCA\n",
    "from sklearn.ensemble import RandomForestRegressor\n",
    "from sklearn.feature_extraction.text import TfidfVectorizer\n",
    "from collections import defaultdict\n",
    "from nltk.corpus import wordnet as wn\n",
    "from nltk import word_tokenize, pos_tag\n",
    "#from sklearn.linear_model import LinearRegression\n",
    "#from sklearn.ensemble import GradientBoostingRegressor\n",
    "from sklearn.model_selection import train_test_split\n",
    "from sklearn.metrics import r2_score"
   ]
  },
  {
   "cell_type": "code",
   "execution_count": 3,
   "id": "b871b6e5",
   "metadata": {
    "execution": {
     "iopub.execute_input": "2022-01-11T22:21:55.133677Z",
     "iopub.status.busy": "2022-01-11T22:21:55.133073Z",
     "iopub.status.idle": "2022-01-11T22:21:55.136710Z",
     "shell.execute_reply": "2022-01-11T22:21:55.137299Z"
    },
    "id": "zM59kVcgDE58",
    "papermill": {
     "duration": 0.043821,
     "end_time": "2022-01-11T22:21:55.137468",
     "exception": false,
     "start_time": "2022-01-11T22:21:55.093647",
     "status": "completed"
    },
    "tags": []
   },
   "outputs": [],
   "source": [
    "punc = string.punctuation + '•'"
   ]
  },
  {
   "cell_type": "code",
   "execution_count": 4,
   "id": "78279008",
   "metadata": {
    "execution": {
     "iopub.execute_input": "2022-01-11T22:21:55.212714Z",
     "iopub.status.busy": "2022-01-11T22:21:55.212000Z",
     "iopub.status.idle": "2022-01-11T22:21:55.242739Z",
     "shell.execute_reply": "2022-01-11T22:21:55.242198Z"
    },
    "id": "NyGQhc8nDE9e",
    "papermill": {
     "duration": 0.06949,
     "end_time": "2022-01-11T22:21:55.242939",
     "exception": false,
     "start_time": "2022-01-11T22:21:55.173449",
     "status": "completed"
    },
    "tags": []
   },
   "outputs": [],
   "source": [
    "contractions_dict = {\"ain't\": 'are not',\n",
    " \"'s\": ' is',\n",
    " \"aren't\": 'are not',\n",
    " \"can't\": 'cannot',\n",
    " \"can't've\": 'cannot have',\n",
    " \"'cause\": 'because',\n",
    " \"could've\": 'could have',\n",
    " \"couldn't\": 'could not',\n",
    " \"couldn't've\": 'could not have',\n",
    " \"didn't\": 'did not',\n",
    " \"doesn't\": 'does not',\n",
    " \"don't\": 'do not',\n",
    " \"hadn't\": 'had not',\n",
    " \"hadn't've\": 'had not have',\n",
    " \"hasn't\": 'has not',\n",
    " \"haven't\": 'have not',\n",
    " \"he'd\": 'he would',\n",
    " \"he'd've\": 'he would have',\n",
    " \"he'll\": 'he will',\n",
    " \"he'll've\": 'he will have',\n",
    " \"how'd\": 'how did',\n",
    " \"how'd'y\": 'how do you',\n",
    " \"how'll\": 'how will',\n",
    " \"i'd\": 'i would',\n",
    " \"i'd've\": 'i would have',\n",
    " \"i'll\": 'i will',\n",
    " \"i'll've\": 'i will have',\n",
    " \"i'm\": 'i am',\n",
    " \"i've\": 'i have',\n",
    " \"isn't\": 'is not',\n",
    " \"it'd\": 'it would',\n",
    " \"it'd've\": 'it would have',\n",
    " \"it'll\": 'it will',\n",
    " \"it'll've\": 'it will have',\n",
    " \"let's\": 'let us',\n",
    " \"ma'am\": 'madam',\n",
    " \"mayn't\": 'may not',\n",
    " \"might've\": 'might have',\n",
    " \"mightn't\": 'might not',\n",
    " \"mightn't've\": 'might not have',\n",
    " \"must've\": 'must have',\n",
    " \"mustn't\": 'must not',\n",
    " \"mustn't've\": 'must not have',\n",
    " \"needn't\": 'need not',\n",
    " \"needn't've\": 'need not have',\n",
    " \"o'clock\": 'of the clock',\n",
    " \"oughtn't\": 'ought not',\n",
    " \"oughtn't've\": 'ought not have',\n",
    " \"shan't\": 'shall not',\n",
    " \"sha'n't\": 'shall not',\n",
    " \"shan't've\": 'shall not have',\n",
    " \"she'd\": 'she would',\n",
    " \"she'd've\": 'she would have',\n",
    " \"she'll\": 'she will',\n",
    " \"she'll've\": 'she will have',\n",
    " \"should've\": 'should have',\n",
    " \"shouldn't\": 'should not',\n",
    " \"shouldn't've\": 'should not have',\n",
    " \"so've\": 'so have',\n",
    " \"that'd\": 'that would',\n",
    " \"that'd've\": 'that would have',\n",
    " \"there'd\": 'there would',\n",
    " \"there'd've\": 'there would have',\n",
    " \"they'd\": 'they would',\n",
    " \"they'd've\": 'they would have',\n",
    " \"they'll\": 'they will',\n",
    " \"they'll've\": 'they will have',\n",
    " \"they're\": 'they are',\n",
    " \"they've\": 'they have',\n",
    " \"to've\": 'to have',\n",
    " \"wasn't\": 'was not',\n",
    " \"we'd\": 'we would',\n",
    " \"we'd've\": 'we would have',\n",
    " \"we'll\": 'we will',\n",
    " \"we'll've\": 'we will have',\n",
    " \"we're\": 'we are',\n",
    " \"we've\": 'we have',\n",
    " \"weren't\": 'were not',\n",
    " \"what'll\": 'what will',\n",
    " \"what'll've\": 'what will have',\n",
    " \"what're\": 'what are',\n",
    " \"what've\": 'what have',\n",
    " \"when've\": 'when have',\n",
    " \"where'd\": 'where did',\n",
    " \"where've\": 'where have',\n",
    " \"who'll\": 'who will',\n",
    " \"who'll've\": 'who will have',\n",
    " \"who've\": 'who have',\n",
    " \"why've\": 'why have',\n",
    " \"will've\": 'will have',\n",
    " \"won't\": 'will not',\n",
    " \"won't've\": 'will not have',\n",
    " \"would've\": 'would have',\n",
    " \"wouldn't\": 'would not',\n",
    " \"wouldn't've\": 'would not have',\n",
    " \"y'all\": 'you all',\n",
    " \"y'all'd\": 'you all would',\n",
    " \"y'all'd've\": 'you all would have',\n",
    " \"y'all're\": 'you all are',\n",
    " \"y'all've\": 'you all have',\n",
    " \"you'd\": 'you would',\n",
    " \"you'd've\": 'you would have',\n",
    " \"you'll\": 'you will',\n",
    " \"you'll've\": 'you will have',\n",
    " \"you're\": 'you are',\n",
    " \"you've\": 'you have',\n",
    "' afaik ': ' as far as i know ',\n",
    " ' afk ': ' away from keyboard',\n",
    " ' asap ': ' as soon as possible',\n",
    " ' atk ': ' at the keyboard',\n",
    " ' atm ': ' at the moment',\n",
    " ' bak ': ' back at keyboard ',\n",
    " ' bbl ': ' be back later ',\n",
    " ' bbs ': ' be back soon ',\n",
    " ' bfn ': ' bye for now ',\n",
    " ' b4n ': ' bye for now ',\n",
    " ' brb ': ' be right back ',\n",
    " ' brt ': ' be right there ',\n",
    " ' btw ': ' by the way ',\n",
    " ' b4 ': ' before ',\n",
    " ' cu ': ' see you ',\n",
    " ' cul8r ': ' see you later ',\n",
    " ' cya ': ' see you ',\n",
    " ' faq ': ' frequently asked questions ',\n",
    " ' fc ': ' fingers crossed ',\n",
    " ' fwiw ': \" for what it is worth \",\n",
    " ' fyi ': ' for your information ',\n",
    " ' gal ': ' get a life ',\n",
    " ' gg ': ' good game ',\n",
    " ' gn ': ' good night ',\n",
    " 'gmta': 'great minds think alike',\n",
    " ' gr8 ': ' great! ',\n",
    " ' g9 ': ' genius ',\n",
    " ' ic ': ' i see ',\n",
    " ' icq ': ' i seek you ',\n",
    " 'ilu': ' i love you',\n",
    " 'imho': ' in my humble opinion',\n",
    " ' imo ': ' in my opinion ',\n",
    " ' iow ': ' in other words ',\n",
    " 'irl': 'in real life',\n",
    " ' ldr ': ' long distance relationship ',\n",
    " 'lmao': ' laugh my ass off',\n",
    " ' lol ': ' laughing out loud ',\n",
    " 'ltns': ' long time no see',\n",
    " ' l8r ': ' later ',\n",
    " ' mte ': ' my thoughts exactly ',\n",
    " ' m8 ': ' mate ',\n",
    " ' nrn ': ' no reply necessary ',\n",
    " ' oic ': ' oh i see ',\n",
    " ' pita ': ' pain in the ass ',\n",
    " ' prt ': ' party ',\n",
    " ' prw ': ' parents are watching ',\n",
    " 'qpsa?': 'que pasa?',\n",
    " 'rofl': 'rolling on the floor laughing',\n",
    " 'roflol': 'rolling on the floor laughing out loud',\n",
    " 'rotflmao': 'rolling on the floor laughing my ass off',\n",
    " ' sk8 ': ' skate ',\n",
    " ' stats ': ' your sex and age ',\n",
    " ' asl ': ' age, sex, location ',\n",
    " ' thx ': ' thank you ',\n",
    " 'ttfn': 'ta-ta for now!',\n",
    " 'ttyl': ' talk to you later',\n",
    " ' u ': ' you ',\n",
    " 'u2': ' you too',\n",
    " 'u4e': ' yours for ever',\n",
    " ' wb ': ' welcome back ',\n",
    " 'wtf': ' what the fuck',\n",
    " 'wtg': ' way to go!',\n",
    " 'wuf': ' where are you from?',\n",
    " ' w8 ': ' wait ',\n",
    "' pov ':' point of view '}\n",
    "\n",
    "# Regular expression for finding contractions\n",
    "contractions_re=re.compile('(%s)' % '|'.join(contractions_dict.keys()))\n",
    "# Function for expanding contractions\n",
    "def expand_contractions(text,contractions_dict=contractions_dict):\n",
    "    def replace(match):\n",
    "        return contractions_dict[match.group(0)]\n",
    "    return contractions_re.sub(replace, text)\n",
    "\n"
   ]
  },
  {
   "cell_type": "code",
   "execution_count": 5,
   "id": "f6be7fdc",
   "metadata": {
    "execution": {
     "iopub.execute_input": "2022-01-11T22:21:55.327532Z",
     "iopub.status.busy": "2022-01-11T22:21:55.326821Z",
     "iopub.status.idle": "2022-01-11T22:21:55.330389Z",
     "shell.execute_reply": "2022-01-11T22:21:55.329859Z"
    },
    "id": "pLgni6WpDE_C",
    "papermill": {
     "duration": 0.050558,
     "end_time": "2022-01-11T22:21:55.330532",
     "exception": false,
     "start_time": "2022-01-11T22:21:55.279974",
     "status": "completed"
    },
    "tags": []
   },
   "outputs": [],
   "source": [
    "def text_cleaning(txt):\n",
    "    \n",
    "    txt = txt.lower()\n",
    "    \n",
    "    #html\n",
    "    txt = ' '.join(['' if 'http' in words or 'www' in words or '.jpeg' in words or '.jpg' in words or '.png' in words or '.zip' in words or 'wikipeida_talk' in words or '@' in words or '•' in words or '&' in words or '\\n' in words else words for words in txt.split() ]) #html .jpg .png zip wikipeida_Talk removal    \n",
    "      \n",
    "    #mail\n",
    "    pattern = r'\\b[A-Za-z0-9._%+-]+@[A-Za-z0-9.-]+\\.[A-Z|a-z]{2,}\\b'\n",
    "    match = re.findall(pattern, 'This is my mail karthik123@gmail.com note it')\n",
    "    txt = txt.replace(match[0],'') #mail removal code\n",
    "    \n",
    "    txt = ''.join([char for char in txt if char not in punc+'1234567890' ]) #Punctuation & IP removal\n",
    "    txt = re.sub(r'([*!?\\'])\\1\\1{2,}',r'\\1\\1\\1',txt)\n",
    "    txt = re.sub(r'([*!?\\']+)',r' \\1 ',txt)\n",
    "    txt = re.sub(r'([a-zA-Z])\\1{2,}\\b',r'\\1\\1', txt)    \n",
    "    txt = re.sub(r'([a-zA-Z])\\1\\1{2,}\\B',r'\\1\\1\\1',txt)\n",
    "    \n",
    "    # Expanding Contractions in the comments\n",
    "    txt = expand_contractions(txt)\n",
    "    \n",
    "    emoji_pattern = re.compile(\"[\"\n",
    "                               u\"\\U0001F600-\\U0001F64F\"  # emoticons\n",
    "                               u\"\\U0001F300-\\U0001F5FF\"  # symbols & pictographs\n",
    "                               u\"\\U0001F680-\\U0001F6FF\"  # transport & map symbols\n",
    "                               u\"\\U0001F1E0-\\U0001F1FF\"  # flags (iOS)\n",
    "                               u\"\\U00002702-\\U000027B0\"\n",
    "                               u\"\\U000024C2-\\U0001F251\"\n",
    "                               \"]+\", flags=re.UNICODE)\n",
    "    txt = emoji_pattern.sub(r'', txt)\n",
    "    #lang = TextBlob(txt) \n",
    "    \n",
    "    #try:\n",
    "      #  if lang.detect_language() != 'en' and len(txt) < 4000 :\n",
    "       #     txt = GoogleTranslator(source='auto', target='en').translate(txt)\n",
    "            \n",
    "    #except HTTPError:\n",
    "     #   print(txt)\n",
    "        #txt = translation.text\n",
    "\n",
    "    return txt"
   ]
  },
  {
   "cell_type": "code",
   "execution_count": 6,
   "id": "377a0364",
   "metadata": {
    "execution": {
     "iopub.execute_input": "2022-01-11T22:21:55.408788Z",
     "iopub.status.busy": "2022-01-11T22:21:55.408150Z",
     "iopub.status.idle": "2022-01-11T22:21:55.410467Z",
     "shell.execute_reply": "2022-01-11T22:21:55.411117Z"
    },
    "id": "MFijAvKApPrf",
    "papermill": {
     "duration": 0.043623,
     "end_time": "2022-01-11T22:21:55.411293",
     "exception": false,
     "start_time": "2022-01-11T22:21:55.367670",
     "status": "completed"
    },
    "tags": []
   },
   "outputs": [],
   "source": [
    "#nltk.download('punkt')\n",
    "#nltk.download('stopwords')\n",
    "#nltk.download('wordnet')\n",
    "#nltk.download('averaged_perceptron_tagger')"
   ]
  },
  {
   "cell_type": "code",
   "execution_count": 7,
   "id": "6ffa0cce",
   "metadata": {
    "execution": {
     "iopub.execute_input": "2022-01-11T22:21:55.486342Z",
     "iopub.status.busy": "2022-01-11T22:21:55.485666Z",
     "iopub.status.idle": "2022-01-11T22:22:07.723429Z",
     "shell.execute_reply": "2022-01-11T22:22:07.723940Z"
    },
    "id": "APuIjY5UDFCb",
    "papermill": {
     "duration": 12.277249,
     "end_time": "2022-01-11T22:22:07.724136",
     "exception": false,
     "start_time": "2022-01-11T22:21:55.446887",
     "status": "completed"
    },
    "tags": []
   },
   "outputs": [
    {
     "data": {
      "text/html": [
       "<div>\n",
       "<style scoped>\n",
       "    .dataframe tbody tr th:only-of-type {\n",
       "        vertical-align: middle;\n",
       "    }\n",
       "\n",
       "    .dataframe tbody tr th {\n",
       "        vertical-align: top;\n",
       "    }\n",
       "\n",
       "    .dataframe thead th {\n",
       "        text-align: right;\n",
       "    }\n",
       "</style>\n",
       "<table border=\"1\" class=\"dataframe\">\n",
       "  <thead>\n",
       "    <tr style=\"text-align: right;\">\n",
       "      <th></th>\n",
       "      <th>id</th>\n",
       "      <th>comment_text</th>\n",
       "      <th>target</th>\n",
       "      <th>Cleaned_Text</th>\n",
       "      <th>Tokenized_text</th>\n",
       "    </tr>\n",
       "  </thead>\n",
       "  <tbody>\n",
       "    <tr>\n",
       "      <th>0</th>\n",
       "      <td>0002bcb3da6cb337</td>\n",
       "      <td>COCKSUCKER BEFORE YOU PISS AROUND ON MY WORK</td>\n",
       "      <td>0.58</td>\n",
       "      <td>cocksucker before you piss around on my work</td>\n",
       "      <td>[cocksucker, piss, around, work]</td>\n",
       "    </tr>\n",
       "    <tr>\n",
       "      <th>1</th>\n",
       "      <td>0005c987bdfc9d4b</td>\n",
       "      <td>Hey... what is it..\\n@ | talk .\\nWhat is it......</td>\n",
       "      <td>0.05</td>\n",
       "      <td>hey what is it   talk  what is it an exclusive...</td>\n",
       "      <td>[hey, talk, exclusive, group, wp, talibanswho,...</td>\n",
       "    </tr>\n",
       "    <tr>\n",
       "      <th>2</th>\n",
       "      <td>0007e25b2121310b</td>\n",
       "      <td>Bye! \\n\\nDon't look, come or think of comming ...</td>\n",
       "      <td>0.05</td>\n",
       "      <td>bye dont look come or think of comming back to...</td>\n",
       "      <td>[bye, dont, look, come, think, comming, back, ...</td>\n",
       "    </tr>\n",
       "    <tr>\n",
       "      <th>3</th>\n",
       "      <td>001810bf8c45bf5f</td>\n",
       "      <td>You are gay or antisemmitian? \\n\\nArchangel WH...</td>\n",
       "      <td>0.67</td>\n",
       "      <td>you are gay or antisemmitian archangel white t...</td>\n",
       "      <td>[gay, antisemmitian, archangel, white, tiger, ...</td>\n",
       "    </tr>\n",
       "    <tr>\n",
       "      <th>4</th>\n",
       "      <td>00190820581d90ce</td>\n",
       "      <td>FUCK YOUR FILTHY MOTHER IN THE ASS, DRY!</td>\n",
       "      <td>0.39</td>\n",
       "      <td>fuck your filthy mother in the ass dry</td>\n",
       "      <td>[fuck, filthy, mother, ass, dry]</td>\n",
       "    </tr>\n",
       "    <tr>\n",
       "      <th>5</th>\n",
       "      <td>001956c382006abd</td>\n",
       "      <td>I'm Sorry \\n\\nI'm sorry I screwed around with ...</td>\n",
       "      <td>0.05</td>\n",
       "      <td>im sorry im sorry i screwed around with someon...</td>\n",
       "      <td>[im, sorry, im, sorry, screwed, around, someon...</td>\n",
       "    </tr>\n",
       "    <tr>\n",
       "      <th>6</th>\n",
       "      <td>001dc38a83d420cf</td>\n",
       "      <td>GET FUCKED UP. GET FUCKEEED UP.  GOT A DRINK T...</td>\n",
       "      <td>0.29</td>\n",
       "      <td>get fucked up get fuckeeed up got a drink that...</td>\n",
       "      <td>[get, fucked, get, fuckeeed, got, drink, cant,...</td>\n",
       "    </tr>\n",
       "    <tr>\n",
       "      <th>7</th>\n",
       "      <td>0020e7119b96eeeb</td>\n",
       "      <td>Stupid peace of shit stop deleting my stuff as...</td>\n",
       "      <td>0.58</td>\n",
       "      <td>stupid peace of shit stop deleting my stuff as...</td>\n",
       "      <td>[stupid, peace, shit, stop, deleting, stuff, a...</td>\n",
       "    </tr>\n",
       "    <tr>\n",
       "      <th>8</th>\n",
       "      <td>0020fd96ed3b8c8b</td>\n",
       "      <td>#ERROR!</td>\n",
       "      <td>0.39</td>\n",
       "      <td>tony sidaway is obviously a fistfuckee he love...</td>\n",
       "      <td>[tony, sidaway, obviously, fistfuckee, loves, ...</td>\n",
       "    </tr>\n",
       "    <tr>\n",
       "      <th>9</th>\n",
       "      <td>0021fe88bc4da3e6</td>\n",
       "      <td>My Band Page's deletion. You thought I was gon...</td>\n",
       "      <td>0.29</td>\n",
       "      <td>my band pages deletion you thought i was gone ...</td>\n",
       "      <td>[band, pages, deletion, thought, gone, deletin...</td>\n",
       "    </tr>\n",
       "  </tbody>\n",
       "</table>\n",
       "</div>"
      ],
      "text/plain": [
       "                 id                                       comment_text  \\\n",
       "0  0002bcb3da6cb337       COCKSUCKER BEFORE YOU PISS AROUND ON MY WORK   \n",
       "1  0005c987bdfc9d4b  Hey... what is it..\\n@ | talk .\\nWhat is it......   \n",
       "2  0007e25b2121310b  Bye! \\n\\nDon't look, come or think of comming ...   \n",
       "3  001810bf8c45bf5f  You are gay or antisemmitian? \\n\\nArchangel WH...   \n",
       "4  00190820581d90ce           FUCK YOUR FILTHY MOTHER IN THE ASS, DRY!   \n",
       "5  001956c382006abd  I'm Sorry \\n\\nI'm sorry I screwed around with ...   \n",
       "6  001dc38a83d420cf  GET FUCKED UP. GET FUCKEEED UP.  GOT A DRINK T...   \n",
       "7  0020e7119b96eeeb  Stupid peace of shit stop deleting my stuff as...   \n",
       "8  0020fd96ed3b8c8b                                            #ERROR!   \n",
       "9  0021fe88bc4da3e6  My Band Page's deletion. You thought I was gon...   \n",
       "\n",
       "   target                                       Cleaned_Text  \\\n",
       "0    0.58       cocksucker before you piss around on my work   \n",
       "1    0.05  hey what is it   talk  what is it an exclusive...   \n",
       "2    0.05  bye dont look come or think of comming back to...   \n",
       "3    0.67  you are gay or antisemmitian archangel white t...   \n",
       "4    0.39             fuck your filthy mother in the ass dry   \n",
       "5    0.05  im sorry im sorry i screwed around with someon...   \n",
       "6    0.29  get fucked up get fuckeeed up got a drink that...   \n",
       "7    0.58  stupid peace of shit stop deleting my stuff as...   \n",
       "8    0.39  tony sidaway is obviously a fistfuckee he love...   \n",
       "9    0.29  my band pages deletion you thought i was gone ...   \n",
       "\n",
       "                                      Tokenized_text  \n",
       "0                   [cocksucker, piss, around, work]  \n",
       "1  [hey, talk, exclusive, group, wp, talibanswho,...  \n",
       "2  [bye, dont, look, come, think, comming, back, ...  \n",
       "3  [gay, antisemmitian, archangel, white, tiger, ...  \n",
       "4                   [fuck, filthy, mother, ass, dry]  \n",
       "5  [im, sorry, im, sorry, screwed, around, someon...  \n",
       "6  [get, fucked, get, fuckeeed, got, drink, cant,...  \n",
       "7  [stupid, peace, shit, stop, deleting, stuff, a...  \n",
       "8  [tony, sidaway, obviously, fistfuckee, loves, ...  \n",
       "9  [band, pages, deletion, thought, gone, deletin...  "
      ]
     },
     "execution_count": 7,
     "metadata": {},
     "output_type": "execute_result"
    }
   ],
   "source": [
    "df = pd.read_csv('../input/jigsaw-train-csv/Jigsaw_Competition_trai.csv')\n",
    "df.drop(['toxic','severe_toxic','obscene','threat','insult','identity_hate','Unnamed: 0','text_cleaning'],inplace=True,axis=1)\n",
    "def tokenize(text):\n",
    "        token = nltk.word_tokenize(text)\n",
    "        return token\n",
    "\n",
    "df['Tokenized_text'] = df['Cleaned_Text'].apply(lambda x : tokenize(x))\n",
    "\n",
    "stpw = nltk.corpus.stopwords.words('english')\n",
    "def rmstp(text):\n",
    "    tt = [char.lower() for char in text if char not in stpw ]\n",
    "    return tt\n",
    "df['Tokenized_text'] = df['Tokenized_text'].apply(lambda x:rmstp(x))\n",
    "df.head(10)"
   ]
  },
  {
   "cell_type": "code",
   "execution_count": 8,
   "id": "7ecba5f4",
   "metadata": {
    "execution": {
     "iopub.execute_input": "2022-01-11T22:22:07.803121Z",
     "iopub.status.busy": "2022-01-11T22:22:07.802113Z",
     "iopub.status.idle": "2022-01-11T22:22:51.458061Z",
     "shell.execute_reply": "2022-01-11T22:22:51.458587Z"
    },
    "id": "ZoPsyQIYoIv7",
    "papermill": {
     "duration": 43.696913,
     "end_time": "2022-01-11T22:22:51.458796",
     "exception": false,
     "start_time": "2022-01-11T22:22:07.761883",
     "status": "completed"
    },
    "tags": []
   },
   "outputs": [
    {
     "name": "stdout",
     "output_type": "stream",
     "text": [
      "                 id                                       comment_text  \\\n",
      "0  0002bcb3da6cb337       COCKSUCKER BEFORE YOU PISS AROUND ON MY WORK   \n",
      "1  0005c987bdfc9d4b  Hey... what is it..\\n@ | talk .\\nWhat is it......   \n",
      "2  0007e25b2121310b  Bye! \\n\\nDon't look, come or think of comming ...   \n",
      "3  001810bf8c45bf5f  You are gay or antisemmitian? \\n\\nArchangel WH...   \n",
      "4  00190820581d90ce           FUCK YOUR FILTHY MOTHER IN THE ASS, DRY!   \n",
      "\n",
      "   target                                       Cleaned_Text  \\\n",
      "0    0.58       cocksucker before you piss around on my work   \n",
      "1    0.05  hey what is it   talk  what is it an exclusive...   \n",
      "2    0.05  bye dont look come or think of comming back to...   \n",
      "3    0.67  you are gay or antisemmitian archangel white t...   \n",
      "4    0.39             fuck your filthy mother in the ass dry   \n",
      "\n",
      "                                      Tokenized_text  \\\n",
      "0                   [cocksucker, piss, around, work]   \n",
      "1  [hey, talk, exclusive, group, wp, talibanswho,...   \n",
      "2  [bye, dont, look, come, think, comming, back, ...   \n",
      "3  [gay, antisemmitian, archangel, white, tiger, ...   \n",
      "4                   [fuck, filthy, mother, ass, dry]   \n",
      "\n",
      "                                          lemmatized  \n",
      "0                   [cocksucker, piss, around, work]  \n",
      "1  [hey, talk, exclusive, group, wp, talibanswho,...  \n",
      "2  [bye, dont, look, come, think, comming, back, ...  \n",
      "3  [gay, antisemmitian, archangel, white, tiger, ...  \n",
      "4                    [fuck, filthy, mother, as, dry]  \n"
     ]
    }
   ],
   "source": [
    "tag_map = defaultdict(lambda : wn.NOUN)\n",
    "tag_map['J'] = wn.ADJ\n",
    "tag_map['V'] = wn.VERB\n",
    "tag_map['R'] = wn.ADV\n",
    "from nltk.stem import WordNetLemmatizer \n",
    "lemmatizer = WordNetLemmatizer() \n",
    "def rmstmer(text):\n",
    "    tt = [lemmatizer.lemmatize(char,tag_map[j[0]]) for char,j in pos_tag(text)]\n",
    "    return tt\n",
    "df['lemmatized'] = df['Tokenized_text'].apply(lambda x:rmstmer(x))\n",
    "print(df.head())"
   ]
  },
  {
   "cell_type": "code",
   "execution_count": 9,
   "id": "2b7b65ec",
   "metadata": {
    "execution": {
     "iopub.execute_input": "2022-01-11T22:22:51.547971Z",
     "iopub.status.busy": "2022-01-11T22:22:51.542679Z",
     "iopub.status.idle": "2022-01-11T22:22:51.583373Z",
     "shell.execute_reply": "2022-01-11T22:22:51.583972Z"
    },
    "id": "rD6bSYgooIxL",
    "papermill": {
     "duration": 0.087952,
     "end_time": "2022-01-11T22:22:51.584185",
     "exception": false,
     "start_time": "2022-01-11T22:22:51.496233",
     "status": "completed"
    },
    "tags": []
   },
   "outputs": [
    {
     "data": {
      "text/html": [
       "<div>\n",
       "<style scoped>\n",
       "    .dataframe tbody tr th:only-of-type {\n",
       "        vertical-align: middle;\n",
       "    }\n",
       "\n",
       "    .dataframe tbody tr th {\n",
       "        vertical-align: top;\n",
       "    }\n",
       "\n",
       "    .dataframe thead th {\n",
       "        text-align: right;\n",
       "    }\n",
       "</style>\n",
       "<table border=\"1\" class=\"dataframe\">\n",
       "  <thead>\n",
       "    <tr style=\"text-align: right;\">\n",
       "      <th></th>\n",
       "      <th>id</th>\n",
       "      <th>comment_text</th>\n",
       "      <th>target</th>\n",
       "      <th>Cleaned_Text</th>\n",
       "      <th>Tokenized_text</th>\n",
       "      <th>lemmatized</th>\n",
       "      <th>lemmatized_text</th>\n",
       "    </tr>\n",
       "  </thead>\n",
       "  <tbody>\n",
       "    <tr>\n",
       "      <th>0</th>\n",
       "      <td>0002bcb3da6cb337</td>\n",
       "      <td>COCKSUCKER BEFORE YOU PISS AROUND ON MY WORK</td>\n",
       "      <td>0.58</td>\n",
       "      <td>cocksucker before you piss around on my work</td>\n",
       "      <td>[cocksucker, piss, around, work]</td>\n",
       "      <td>[cocksucker, piss, around, work]</td>\n",
       "      <td>cocksucker piss around work</td>\n",
       "    </tr>\n",
       "    <tr>\n",
       "      <th>1</th>\n",
       "      <td>0005c987bdfc9d4b</td>\n",
       "      <td>Hey... what is it..\\n@ | talk .\\nWhat is it......</td>\n",
       "      <td>0.05</td>\n",
       "      <td>hey what is it   talk  what is it an exclusive...</td>\n",
       "      <td>[hey, talk, exclusive, group, wp, talibanswho,...</td>\n",
       "      <td>[hey, talk, exclusive, group, wp, talibanswho,...</td>\n",
       "      <td>hey talk exclusive group wp talibanswho good d...</td>\n",
       "    </tr>\n",
       "    <tr>\n",
       "      <th>2</th>\n",
       "      <td>0007e25b2121310b</td>\n",
       "      <td>Bye! \\n\\nDon't look, come or think of comming ...</td>\n",
       "      <td>0.05</td>\n",
       "      <td>bye dont look come or think of comming back to...</td>\n",
       "      <td>[bye, dont, look, come, think, comming, back, ...</td>\n",
       "      <td>[bye, dont, look, come, think, comming, back, ...</td>\n",
       "      <td>bye dont look come think comming back tosser</td>\n",
       "    </tr>\n",
       "    <tr>\n",
       "      <th>3</th>\n",
       "      <td>001810bf8c45bf5f</td>\n",
       "      <td>You are gay or antisemmitian? \\n\\nArchangel WH...</td>\n",
       "      <td>0.67</td>\n",
       "      <td>you are gay or antisemmitian archangel white t...</td>\n",
       "      <td>[gay, antisemmitian, archangel, white, tiger, ...</td>\n",
       "      <td>[gay, antisemmitian, archangel, white, tiger, ...</td>\n",
       "      <td>gay antisemmitian archangel white tiger meow g...</td>\n",
       "    </tr>\n",
       "    <tr>\n",
       "      <th>4</th>\n",
       "      <td>00190820581d90ce</td>\n",
       "      <td>FUCK YOUR FILTHY MOTHER IN THE ASS, DRY!</td>\n",
       "      <td>0.39</td>\n",
       "      <td>fuck your filthy mother in the ass dry</td>\n",
       "      <td>[fuck, filthy, mother, ass, dry]</td>\n",
       "      <td>[fuck, filthy, mother, as, dry]</td>\n",
       "      <td>fuck filthy mother as dry</td>\n",
       "    </tr>\n",
       "  </tbody>\n",
       "</table>\n",
       "</div>"
      ],
      "text/plain": [
       "                 id                                       comment_text  \\\n",
       "0  0002bcb3da6cb337       COCKSUCKER BEFORE YOU PISS AROUND ON MY WORK   \n",
       "1  0005c987bdfc9d4b  Hey... what is it..\\n@ | talk .\\nWhat is it......   \n",
       "2  0007e25b2121310b  Bye! \\n\\nDon't look, come or think of comming ...   \n",
       "3  001810bf8c45bf5f  You are gay or antisemmitian? \\n\\nArchangel WH...   \n",
       "4  00190820581d90ce           FUCK YOUR FILTHY MOTHER IN THE ASS, DRY!   \n",
       "\n",
       "   target                                       Cleaned_Text  \\\n",
       "0    0.58       cocksucker before you piss around on my work   \n",
       "1    0.05  hey what is it   talk  what is it an exclusive...   \n",
       "2    0.05  bye dont look come or think of comming back to...   \n",
       "3    0.67  you are gay or antisemmitian archangel white t...   \n",
       "4    0.39             fuck your filthy mother in the ass dry   \n",
       "\n",
       "                                      Tokenized_text  \\\n",
       "0                   [cocksucker, piss, around, work]   \n",
       "1  [hey, talk, exclusive, group, wp, talibanswho,...   \n",
       "2  [bye, dont, look, come, think, comming, back, ...   \n",
       "3  [gay, antisemmitian, archangel, white, tiger, ...   \n",
       "4                   [fuck, filthy, mother, ass, dry]   \n",
       "\n",
       "                                          lemmatized  \\\n",
       "0                   [cocksucker, piss, around, work]   \n",
       "1  [hey, talk, exclusive, group, wp, talibanswho,...   \n",
       "2  [bye, dont, look, come, think, comming, back, ...   \n",
       "3  [gay, antisemmitian, archangel, white, tiger, ...   \n",
       "4                    [fuck, filthy, mother, as, dry]   \n",
       "\n",
       "                                     lemmatized_text  \n",
       "0                        cocksucker piss around work  \n",
       "1  hey talk exclusive group wp talibanswho good d...  \n",
       "2       bye dont look come think comming back tosser  \n",
       "3  gay antisemmitian archangel white tiger meow g...  \n",
       "4                          fuck filthy mother as dry  "
      ]
     },
     "execution_count": 9,
     "metadata": {},
     "output_type": "execute_result"
    }
   ],
   "source": [
    "df['lemmatized_text'] = [\" \".join(i) for i in df['lemmatized']]\n",
    "df.head()"
   ]
  },
  {
   "cell_type": "code",
   "execution_count": 10,
   "id": "5a2dbd29",
   "metadata": {
    "execution": {
     "iopub.execute_input": "2022-01-11T22:22:51.666324Z",
     "iopub.status.busy": "2022-01-11T22:22:51.663447Z",
     "iopub.status.idle": "2022-01-11T22:22:51.669370Z",
     "shell.execute_reply": "2022-01-11T22:22:51.669961Z"
    },
    "id": "gpztXAMyp9Tk",
    "papermill": {
     "duration": 0.047681,
     "end_time": "2022-01-11T22:22:51.670151",
     "exception": false,
     "start_time": "2022-01-11T22:22:51.622470",
     "status": "completed"
    },
    "tags": []
   },
   "outputs": [
    {
     "data": {
      "text/plain": [
       "'im sorry im sorry screw around someone talk page bad know templates talk page help assert dominance know bow almighty administrator im go go play outsidewith mom'"
      ]
     },
     "execution_count": 10,
     "metadata": {},
     "output_type": "execute_result"
    }
   ],
   "source": [
    "df['lemmatized_text'].iloc[5]"
   ]
  },
  {
   "cell_type": "code",
   "execution_count": 11,
   "id": "a845cbcd",
   "metadata": {
    "execution": {
     "iopub.execute_input": "2022-01-11T22:22:51.750839Z",
     "iopub.status.busy": "2022-01-11T22:22:51.749847Z",
     "iopub.status.idle": "2022-01-11T22:22:53.370882Z",
     "shell.execute_reply": "2022-01-11T22:22:53.369668Z"
    },
    "id": "sEBrLBzmoI0E",
    "papermill": {
     "duration": 1.662339,
     "end_time": "2022-01-11T22:22:53.371073",
     "exception": false,
     "start_time": "2022-01-11T22:22:51.708734",
     "status": "completed"
    },
    "tags": []
   },
   "outputs": [],
   "source": [
    "vect = TfidfVectorizer(analyzer='word',ngram_range = (1,2),max_df=0.8,min_df=5)\n",
    "xvect = vect.fit_transform(df['lemmatized_text'])\n",
    "#print(xvect.shape)"
   ]
  },
  {
   "cell_type": "code",
   "execution_count": 12,
   "id": "c589775b",
   "metadata": {
    "execution": {
     "iopub.execute_input": "2022-01-11T22:22:53.453657Z",
     "iopub.status.busy": "2022-01-11T22:22:53.452625Z",
     "iopub.status.idle": "2022-01-11T22:22:53.455151Z",
     "shell.execute_reply": "2022-01-11T22:22:53.454561Z"
    },
    "id": "ZUN8yr1aoI1j",
    "papermill": {
     "duration": 0.045179,
     "end_time": "2022-01-11T22:22:53.455308",
     "exception": false,
     "start_time": "2022-01-11T22:22:53.410129",
     "status": "completed"
    },
    "tags": []
   },
   "outputs": [],
   "source": [
    "#print(vect.get_feature_names())\n",
    "#print(xvect.shape)"
   ]
  },
  {
   "cell_type": "code",
   "execution_count": null,
   "id": "ae776b2a",
   "metadata": {
    "id": "_69mi-dUqoK6",
    "papermill": {
     "duration": 0.038056,
     "end_time": "2022-01-11T22:22:53.531569",
     "exception": false,
     "start_time": "2022-01-11T22:22:53.493513",
     "status": "completed"
    },
    "tags": []
   },
   "outputs": [],
   "source": []
  },
  {
   "cell_type": "code",
   "execution_count": 13,
   "id": "69d1abca",
   "metadata": {
    "execution": {
     "iopub.execute_input": "2022-01-11T22:22:53.614895Z",
     "iopub.status.busy": "2022-01-11T22:22:53.613832Z",
     "iopub.status.idle": "2022-01-11T22:22:54.545947Z",
     "shell.execute_reply": "2022-01-11T22:22:54.546494Z"
    },
    "id": "FmKR_wagoI4w",
    "papermill": {
     "duration": 0.976836,
     "end_time": "2022-01-11T22:22:54.546695",
     "exception": false,
     "start_time": "2022-01-11T22:22:53.569859",
     "status": "completed"
    },
    "tags": []
   },
   "outputs": [],
   "source": [
    "y = df['target']\n",
    "Xvect = pd.DataFrame(xvect.toarray())\n",
    "#Xvect.shape\n"
   ]
  },
  {
   "cell_type": "code",
   "execution_count": 14,
   "id": "5ea8608a",
   "metadata": {
    "execution": {
     "iopub.execute_input": "2022-01-11T22:22:54.628318Z",
     "iopub.status.busy": "2022-01-11T22:22:54.627379Z",
     "iopub.status.idle": "2022-01-11T22:22:54.659899Z",
     "shell.execute_reply": "2022-01-11T22:22:54.659247Z"
    },
    "id": "6BAurBF6qxFE",
    "papermill": {
     "duration": 0.074633,
     "end_time": "2022-01-11T22:22:54.660074",
     "exception": false,
     "start_time": "2022-01-11T22:22:54.585441",
     "status": "completed"
    },
    "tags": []
   },
   "outputs": [
    {
     "data": {
      "text/html": [
       "<div>\n",
       "<style scoped>\n",
       "    .dataframe tbody tr th:only-of-type {\n",
       "        vertical-align: middle;\n",
       "    }\n",
       "\n",
       "    .dataframe tbody tr th {\n",
       "        vertical-align: top;\n",
       "    }\n",
       "\n",
       "    .dataframe thead th {\n",
       "        text-align: right;\n",
       "    }\n",
       "</style>\n",
       "<table border=\"1\" class=\"dataframe\">\n",
       "  <thead>\n",
       "    <tr style=\"text-align: right;\">\n",
       "      <th></th>\n",
       "      <th>0</th>\n",
       "      <th>1</th>\n",
       "      <th>2</th>\n",
       "      <th>3</th>\n",
       "      <th>4</th>\n",
       "      <th>5</th>\n",
       "      <th>6</th>\n",
       "      <th>7</th>\n",
       "      <th>8</th>\n",
       "      <th>9</th>\n",
       "      <th>...</th>\n",
       "      <th>11127</th>\n",
       "      <th>11128</th>\n",
       "      <th>11129</th>\n",
       "      <th>11130</th>\n",
       "      <th>11131</th>\n",
       "      <th>11132</th>\n",
       "      <th>11133</th>\n",
       "      <th>11134</th>\n",
       "      <th>11135</th>\n",
       "      <th>11136</th>\n",
       "    </tr>\n",
       "  </thead>\n",
       "  <tbody>\n",
       "    <tr>\n",
       "      <th>0</th>\n",
       "      <td>0.0</td>\n",
       "      <td>0.0</td>\n",
       "      <td>0.0</td>\n",
       "      <td>0.0</td>\n",
       "      <td>0.0</td>\n",
       "      <td>0.0</td>\n",
       "      <td>0.0</td>\n",
       "      <td>0.0</td>\n",
       "      <td>0.0</td>\n",
       "      <td>0.0</td>\n",
       "      <td>...</td>\n",
       "      <td>0.0</td>\n",
       "      <td>0.0</td>\n",
       "      <td>0.0</td>\n",
       "      <td>0.0</td>\n",
       "      <td>0.0</td>\n",
       "      <td>0.0</td>\n",
       "      <td>0.0</td>\n",
       "      <td>0.0</td>\n",
       "      <td>0.0</td>\n",
       "      <td>0.0</td>\n",
       "    </tr>\n",
       "    <tr>\n",
       "      <th>1</th>\n",
       "      <td>0.0</td>\n",
       "      <td>0.0</td>\n",
       "      <td>0.0</td>\n",
       "      <td>0.0</td>\n",
       "      <td>0.0</td>\n",
       "      <td>0.0</td>\n",
       "      <td>0.0</td>\n",
       "      <td>0.0</td>\n",
       "      <td>0.0</td>\n",
       "      <td>0.0</td>\n",
       "      <td>...</td>\n",
       "      <td>0.0</td>\n",
       "      <td>0.0</td>\n",
       "      <td>0.0</td>\n",
       "      <td>0.0</td>\n",
       "      <td>0.0</td>\n",
       "      <td>0.0</td>\n",
       "      <td>0.0</td>\n",
       "      <td>0.0</td>\n",
       "      <td>0.0</td>\n",
       "      <td>0.0</td>\n",
       "    </tr>\n",
       "    <tr>\n",
       "      <th>2</th>\n",
       "      <td>0.0</td>\n",
       "      <td>0.0</td>\n",
       "      <td>0.0</td>\n",
       "      <td>0.0</td>\n",
       "      <td>0.0</td>\n",
       "      <td>0.0</td>\n",
       "      <td>0.0</td>\n",
       "      <td>0.0</td>\n",
       "      <td>0.0</td>\n",
       "      <td>0.0</td>\n",
       "      <td>...</td>\n",
       "      <td>0.0</td>\n",
       "      <td>0.0</td>\n",
       "      <td>0.0</td>\n",
       "      <td>0.0</td>\n",
       "      <td>0.0</td>\n",
       "      <td>0.0</td>\n",
       "      <td>0.0</td>\n",
       "      <td>0.0</td>\n",
       "      <td>0.0</td>\n",
       "      <td>0.0</td>\n",
       "    </tr>\n",
       "    <tr>\n",
       "      <th>3</th>\n",
       "      <td>0.0</td>\n",
       "      <td>0.0</td>\n",
       "      <td>0.0</td>\n",
       "      <td>0.0</td>\n",
       "      <td>0.0</td>\n",
       "      <td>0.0</td>\n",
       "      <td>0.0</td>\n",
       "      <td>0.0</td>\n",
       "      <td>0.0</td>\n",
       "      <td>0.0</td>\n",
       "      <td>...</td>\n",
       "      <td>0.0</td>\n",
       "      <td>0.0</td>\n",
       "      <td>0.0</td>\n",
       "      <td>0.0</td>\n",
       "      <td>0.0</td>\n",
       "      <td>0.0</td>\n",
       "      <td>0.0</td>\n",
       "      <td>0.0</td>\n",
       "      <td>0.0</td>\n",
       "      <td>0.0</td>\n",
       "    </tr>\n",
       "    <tr>\n",
       "      <th>4</th>\n",
       "      <td>0.0</td>\n",
       "      <td>0.0</td>\n",
       "      <td>0.0</td>\n",
       "      <td>0.0</td>\n",
       "      <td>0.0</td>\n",
       "      <td>0.0</td>\n",
       "      <td>0.0</td>\n",
       "      <td>0.0</td>\n",
       "      <td>0.0</td>\n",
       "      <td>0.0</td>\n",
       "      <td>...</td>\n",
       "      <td>0.0</td>\n",
       "      <td>0.0</td>\n",
       "      <td>0.0</td>\n",
       "      <td>0.0</td>\n",
       "      <td>0.0</td>\n",
       "      <td>0.0</td>\n",
       "      <td>0.0</td>\n",
       "      <td>0.0</td>\n",
       "      <td>0.0</td>\n",
       "      <td>0.0</td>\n",
       "    </tr>\n",
       "  </tbody>\n",
       "</table>\n",
       "<p>5 rows × 11137 columns</p>\n",
       "</div>"
      ],
      "text/plain": [
       "   0      1      2      3      4      5      6      7      8      9      ...  \\\n",
       "0    0.0    0.0    0.0    0.0    0.0    0.0    0.0    0.0    0.0    0.0  ...   \n",
       "1    0.0    0.0    0.0    0.0    0.0    0.0    0.0    0.0    0.0    0.0  ...   \n",
       "2    0.0    0.0    0.0    0.0    0.0    0.0    0.0    0.0    0.0    0.0  ...   \n",
       "3    0.0    0.0    0.0    0.0    0.0    0.0    0.0    0.0    0.0    0.0  ...   \n",
       "4    0.0    0.0    0.0    0.0    0.0    0.0    0.0    0.0    0.0    0.0  ...   \n",
       "\n",
       "   11127  11128  11129  11130  11131  11132  11133  11134  11135  11136  \n",
       "0    0.0    0.0    0.0    0.0    0.0    0.0    0.0    0.0    0.0    0.0  \n",
       "1    0.0    0.0    0.0    0.0    0.0    0.0    0.0    0.0    0.0    0.0  \n",
       "2    0.0    0.0    0.0    0.0    0.0    0.0    0.0    0.0    0.0    0.0  \n",
       "3    0.0    0.0    0.0    0.0    0.0    0.0    0.0    0.0    0.0    0.0  \n",
       "4    0.0    0.0    0.0    0.0    0.0    0.0    0.0    0.0    0.0    0.0  \n",
       "\n",
       "[5 rows x 11137 columns]"
      ]
     },
     "execution_count": 14,
     "metadata": {},
     "output_type": "execute_result"
    }
   ],
   "source": [
    "Xvect.head()"
   ]
  },
  {
   "cell_type": "code",
   "execution_count": 15,
   "id": "5990e0ff",
   "metadata": {
    "execution": {
     "iopub.execute_input": "2022-01-11T22:22:54.742603Z",
     "iopub.status.busy": "2022-01-11T22:22:54.741639Z",
     "iopub.status.idle": "2022-01-11T22:41:20.247249Z",
     "shell.execute_reply": "2022-01-11T22:41:20.246685Z"
    },
    "id": "YhsjctcIoI6P",
    "papermill": {
     "duration": 1105.548101,
     "end_time": "2022-01-11T22:41:20.247402",
     "exception": false,
     "start_time": "2022-01-11T22:22:54.699301",
     "status": "completed"
    },
    "tags": []
   },
   "outputs": [
    {
     "name": "stdout",
     "output_type": "stream",
     "text": [
      "shape of dataset - (16225, 5759)\n"
     ]
    },
    {
     "data": {
      "text/html": [
       "<div>\n",
       "<style scoped>\n",
       "    .dataframe tbody tr th:only-of-type {\n",
       "        vertical-align: middle;\n",
       "    }\n",
       "\n",
       "    .dataframe tbody tr th {\n",
       "        vertical-align: top;\n",
       "    }\n",
       "\n",
       "    .dataframe thead th {\n",
       "        text-align: right;\n",
       "    }\n",
       "</style>\n",
       "<table border=\"1\" class=\"dataframe\">\n",
       "  <thead>\n",
       "    <tr style=\"text-align: right;\">\n",
       "      <th></th>\n",
       "      <th>0</th>\n",
       "      <th>1</th>\n",
       "      <th>2</th>\n",
       "      <th>3</th>\n",
       "      <th>4</th>\n",
       "      <th>5</th>\n",
       "      <th>6</th>\n",
       "      <th>7</th>\n",
       "      <th>8</th>\n",
       "      <th>9</th>\n",
       "      <th>...</th>\n",
       "      <th>5749</th>\n",
       "      <th>5750</th>\n",
       "      <th>5751</th>\n",
       "      <th>5752</th>\n",
       "      <th>5753</th>\n",
       "      <th>5754</th>\n",
       "      <th>5755</th>\n",
       "      <th>5756</th>\n",
       "      <th>5757</th>\n",
       "      <th>5758</th>\n",
       "    </tr>\n",
       "  </thead>\n",
       "  <tbody>\n",
       "    <tr>\n",
       "      <th>0</th>\n",
       "      <td>-0.033559</td>\n",
       "      <td>-0.000220</td>\n",
       "      <td>0.021923</td>\n",
       "      <td>0.007198</td>\n",
       "      <td>-0.016695</td>\n",
       "      <td>0.003243</td>\n",
       "      <td>-0.030625</td>\n",
       "      <td>-0.008363</td>\n",
       "      <td>-0.001010</td>\n",
       "      <td>-0.007208</td>\n",
       "      <td>...</td>\n",
       "      <td>-0.003469</td>\n",
       "      <td>0.003379</td>\n",
       "      <td>0.000419</td>\n",
       "      <td>0.000041</td>\n",
       "      <td>-0.005644</td>\n",
       "      <td>0.001916</td>\n",
       "      <td>-0.002314</td>\n",
       "      <td>0.001734</td>\n",
       "      <td>-0.002794</td>\n",
       "      <td>0.004955</td>\n",
       "    </tr>\n",
       "    <tr>\n",
       "      <th>1</th>\n",
       "      <td>-0.039474</td>\n",
       "      <td>-0.013970</td>\n",
       "      <td>-0.010401</td>\n",
       "      <td>-0.031005</td>\n",
       "      <td>-0.000586</td>\n",
       "      <td>0.035815</td>\n",
       "      <td>-0.024647</td>\n",
       "      <td>0.014343</td>\n",
       "      <td>0.010656</td>\n",
       "      <td>-0.021612</td>\n",
       "      <td>...</td>\n",
       "      <td>0.008957</td>\n",
       "      <td>0.000493</td>\n",
       "      <td>0.000065</td>\n",
       "      <td>-0.004587</td>\n",
       "      <td>0.000297</td>\n",
       "      <td>0.006147</td>\n",
       "      <td>0.002996</td>\n",
       "      <td>0.000286</td>\n",
       "      <td>0.005363</td>\n",
       "      <td>-0.004331</td>\n",
       "    </tr>\n",
       "    <tr>\n",
       "      <th>2</th>\n",
       "      <td>-0.049174</td>\n",
       "      <td>-0.042201</td>\n",
       "      <td>-0.034322</td>\n",
       "      <td>-0.002223</td>\n",
       "      <td>-0.002337</td>\n",
       "      <td>-0.033281</td>\n",
       "      <td>0.046867</td>\n",
       "      <td>-0.026109</td>\n",
       "      <td>-0.038426</td>\n",
       "      <td>0.075139</td>\n",
       "      <td>...</td>\n",
       "      <td>0.001327</td>\n",
       "      <td>0.006133</td>\n",
       "      <td>0.003112</td>\n",
       "      <td>-0.003492</td>\n",
       "      <td>0.002700</td>\n",
       "      <td>0.005312</td>\n",
       "      <td>0.000496</td>\n",
       "      <td>0.003168</td>\n",
       "      <td>-0.002329</td>\n",
       "      <td>-0.001872</td>\n",
       "    </tr>\n",
       "    <tr>\n",
       "      <th>3</th>\n",
       "      <td>0.008415</td>\n",
       "      <td>-0.022719</td>\n",
       "      <td>0.079922</td>\n",
       "      <td>-0.062998</td>\n",
       "      <td>0.257278</td>\n",
       "      <td>0.061762</td>\n",
       "      <td>0.076353</td>\n",
       "      <td>0.030987</td>\n",
       "      <td>-0.039252</td>\n",
       "      <td>0.001287</td>\n",
       "      <td>...</td>\n",
       "      <td>0.002777</td>\n",
       "      <td>-0.006206</td>\n",
       "      <td>0.001069</td>\n",
       "      <td>-0.004952</td>\n",
       "      <td>0.009161</td>\n",
       "      <td>-0.000340</td>\n",
       "      <td>-0.002145</td>\n",
       "      <td>0.004908</td>\n",
       "      <td>0.006126</td>\n",
       "      <td>0.006340</td>\n",
       "    </tr>\n",
       "    <tr>\n",
       "      <th>4</th>\n",
       "      <td>0.175241</td>\n",
       "      <td>0.031082</td>\n",
       "      <td>0.064447</td>\n",
       "      <td>-0.015907</td>\n",
       "      <td>-0.048149</td>\n",
       "      <td>0.028896</td>\n",
       "      <td>0.016184</td>\n",
       "      <td>-0.017438</td>\n",
       "      <td>0.006547</td>\n",
       "      <td>-0.003641</td>\n",
       "      <td>...</td>\n",
       "      <td>0.004874</td>\n",
       "      <td>-0.000078</td>\n",
       "      <td>0.000401</td>\n",
       "      <td>0.005394</td>\n",
       "      <td>0.000642</td>\n",
       "      <td>-0.000559</td>\n",
       "      <td>-0.001310</td>\n",
       "      <td>0.000949</td>\n",
       "      <td>-0.003870</td>\n",
       "      <td>-0.000956</td>\n",
       "    </tr>\n",
       "  </tbody>\n",
       "</table>\n",
       "<p>5 rows × 5759 columns</p>\n",
       "</div>"
      ],
      "text/plain": [
       "       0         1         2         3         4         5         6     \\\n",
       "0 -0.033559 -0.000220  0.021923  0.007198 -0.016695  0.003243 -0.030625   \n",
       "1 -0.039474 -0.013970 -0.010401 -0.031005 -0.000586  0.035815 -0.024647   \n",
       "2 -0.049174 -0.042201 -0.034322 -0.002223 -0.002337 -0.033281  0.046867   \n",
       "3  0.008415 -0.022719  0.079922 -0.062998  0.257278  0.061762  0.076353   \n",
       "4  0.175241  0.031082  0.064447 -0.015907 -0.048149  0.028896  0.016184   \n",
       "\n",
       "       7         8         9     ...      5749      5750      5751      5752  \\\n",
       "0 -0.008363 -0.001010 -0.007208  ... -0.003469  0.003379  0.000419  0.000041   \n",
       "1  0.014343  0.010656 -0.021612  ...  0.008957  0.000493  0.000065 -0.004587   \n",
       "2 -0.026109 -0.038426  0.075139  ...  0.001327  0.006133  0.003112 -0.003492   \n",
       "3  0.030987 -0.039252  0.001287  ...  0.002777 -0.006206  0.001069 -0.004952   \n",
       "4 -0.017438  0.006547 -0.003641  ...  0.004874 -0.000078  0.000401  0.005394   \n",
       "\n",
       "       5753      5754      5755      5756      5757      5758  \n",
       "0 -0.005644  0.001916 -0.002314  0.001734 -0.002794  0.004955  \n",
       "1  0.000297  0.006147  0.002996  0.000286  0.005363 -0.004331  \n",
       "2  0.002700  0.005312  0.000496  0.003168 -0.002329 -0.001872  \n",
       "3  0.009161 -0.000340 -0.002145  0.004908  0.006126  0.006340  \n",
       "4  0.000642 -0.000559 -0.001310  0.000949 -0.003870 -0.000956  \n",
       "\n",
       "[5 rows x 5759 columns]"
      ]
     },
     "execution_count": 15,
     "metadata": {},
     "output_type": "execute_result"
    }
   ],
   "source": [
    "pca = PCA(0.95)\n",
    "principalComponents = pca.fit_transform(Xvect)\n",
    "pc_df = pd.DataFrame(data = principalComponents)\n",
    "print(f\"shape of dataset - {pc_df.shape}\")\n",
    "pc_df.head()"
   ]
  },
  {
   "cell_type": "code",
   "execution_count": 16,
   "id": "e200d625",
   "metadata": {
    "execution": {
     "iopub.execute_input": "2022-01-11T22:41:20.331128Z",
     "iopub.status.busy": "2022-01-11T22:41:20.330216Z",
     "iopub.status.idle": "2022-01-11T22:41:20.335293Z",
     "shell.execute_reply": "2022-01-11T22:41:20.334664Z"
    },
    "id": "gXkAJP6JsI2V",
    "papermill": {
     "duration": 0.048041,
     "end_time": "2022-01-11T22:41:20.335436",
     "exception": false,
     "start_time": "2022-01-11T22:41:20.287395",
     "status": "completed"
    },
    "tags": []
   },
   "outputs": [],
   "source": [
    "#pc_df.to_csv(loc+'pc_df_jigsaw.csv',index = False)#(16225, 5759)"
   ]
  },
  {
   "cell_type": "code",
   "execution_count": null,
   "id": "1359b8a0",
   "metadata": {
    "id": "PnotFG_BA2HL",
    "papermill": {
     "duration": 0.040131,
     "end_time": "2022-01-11T22:41:20.416280",
     "exception": false,
     "start_time": "2022-01-11T22:41:20.376149",
     "status": "completed"
    },
    "tags": []
   },
   "outputs": [],
   "source": [
    "\n"
   ]
  },
  {
   "cell_type": "code",
   "execution_count": 17,
   "id": "7842ada0",
   "metadata": {
    "execution": {
     "iopub.execute_input": "2022-01-11T22:41:20.500233Z",
     "iopub.status.busy": "2022-01-11T22:41:20.499295Z",
     "iopub.status.idle": "2022-01-11T23:23:40.406557Z",
     "shell.execute_reply": "2022-01-11T23:23:40.407080Z"
    },
    "id": "nk6idqG7oI9N",
    "papermill": {
     "duration": 2539.950852,
     "end_time": "2022-01-11T23:23:40.407264",
     "exception": false,
     "start_time": "2022-01-11T22:41:20.456412",
     "status": "completed"
    },
    "tags": []
   },
   "outputs": [
    {
     "data": {
      "text/plain": [
       "0.8687435680730865"
      ]
     },
     "execution_count": 17,
     "metadata": {},
     "output_type": "execute_result"
    }
   ],
   "source": [
    "model_lr = RandomForestRegressor(n_estimators=10,random_state=12)\n",
    "model_lr.fit(pc_df,y)\n",
    "model_lr.score(pc_df,y)"
   ]
  },
  {
   "cell_type": "code",
   "execution_count": 18,
   "id": "55a7b698",
   "metadata": {
    "execution": {
     "iopub.execute_input": "2022-01-11T23:23:40.496222Z",
     "iopub.status.busy": "2022-01-11T23:23:40.495561Z",
     "iopub.status.idle": "2022-01-11T23:23:51.940721Z",
     "shell.execute_reply": "2022-01-11T23:23:51.941503Z"
    },
    "id": "F2Q_FfL99vur",
    "papermill": {
     "duration": 11.493978,
     "end_time": "2022-01-11T23:23:51.942205",
     "exception": false,
     "start_time": "2022-01-11T23:23:40.448227",
     "status": "completed"
    },
    "tags": []
   },
   "outputs": [
    {
     "name": "stderr",
     "output_type": "stream",
     "text": [
      "100%|██████████| 7537/7537 [00:11<00:00, 667.05it/s]\n"
     ]
    }
   ],
   "source": [
    "pred_df = pd.read_csv('../input/jigsaw-toxic-severity-rating/comments_to_score.csv')\n",
    "pred_df.head()\n",
    "sub_df =  pd.read_csv('../input/jigsaw-toxic-severity-rating/sample_submission.csv')\n",
    "sub_df.shape\n",
    "res = []\n",
    "for i in tqdm(pred_df['text']):\n",
    "    res.append(' '.join(rmstp(tokenize(text_cleaning(i)))))"
   ]
  },
  {
   "cell_type": "code",
   "execution_count": 19,
   "id": "81631f5a",
   "metadata": {
    "execution": {
     "iopub.execute_input": "2022-01-11T23:23:52.147221Z",
     "iopub.status.busy": "2022-01-11T23:23:52.142354Z",
     "iopub.status.idle": "2022-01-11T23:24:10.267658Z",
     "shell.execute_reply": "2022-01-11T23:24:10.266952Z"
    },
    "id": "lEg7mdmx9vwi",
    "papermill": {
     "duration": 18.243158,
     "end_time": "2022-01-11T23:24:10.267813",
     "exception": false,
     "start_time": "2022-01-11T23:23:52.024655",
     "status": "completed"
    },
    "tags": []
   },
   "outputs": [],
   "source": [
    "val_vect = vect.transform(res)\n",
    "val_vect = pd.DataFrame(val_vect.toarray())\n",
    "val_vect_pca_lt = pca.transform(val_vect)\n",
    "res_lt = model_lr.predict(val_vect_pca_lt)\n",
    "sub_df['score'] = res_lt"
   ]
  },
  {
   "cell_type": "code",
   "execution_count": 20,
   "id": "20529cbe",
   "metadata": {
    "execution": {
     "iopub.execute_input": "2022-01-11T23:24:10.412446Z",
     "iopub.status.busy": "2022-01-11T23:24:10.411523Z",
     "iopub.status.idle": "2022-01-11T23:24:10.448424Z",
     "shell.execute_reply": "2022-01-11T23:24:10.447819Z"
    },
    "id": "0GXZcCtf9vzy",
    "papermill": {
     "duration": 0.110119,
     "end_time": "2022-01-11T23:24:10.448582",
     "exception": false,
     "start_time": "2022-01-11T23:24:10.338463",
     "status": "completed"
    },
    "tags": []
   },
   "outputs": [],
   "source": [
    "sub_df.to_csv('./submission.csv',index=False)"
   ]
  },
  {
   "cell_type": "code",
   "execution_count": null,
   "id": "14ca19fb",
   "metadata": {
    "id": "IcJdbpOm9v1u",
    "papermill": {
     "duration": 0.07214,
     "end_time": "2022-01-11T23:24:10.592086",
     "exception": false,
     "start_time": "2022-01-11T23:24:10.519946",
     "status": "completed"
    },
    "tags": []
   },
   "outputs": [],
   "source": []
  },
  {
   "cell_type": "code",
   "execution_count": null,
   "id": "646dd482",
   "metadata": {
    "id": "8mr1wSoo9v5Z",
    "papermill": {
     "duration": 0.071113,
     "end_time": "2022-01-11T23:24:10.736178",
     "exception": false,
     "start_time": "2022-01-11T23:24:10.665065",
     "status": "completed"
    },
    "tags": []
   },
   "outputs": [],
   "source": []
  },
  {
   "cell_type": "code",
   "execution_count": 21,
   "id": "15e62897",
   "metadata": {
    "execution": {
     "iopub.execute_input": "2022-01-11T23:24:10.887620Z",
     "iopub.status.busy": "2022-01-11T23:24:10.886958Z",
     "iopub.status.idle": "2022-01-11T23:24:10.888305Z",
     "shell.execute_reply": "2022-01-11T23:24:10.888896Z"
    },
    "id": "t2vk0hHp7naz",
    "papermill": {
     "duration": 0.079335,
     "end_time": "2022-01-11T23:24:10.889106",
     "exception": false,
     "start_time": "2022-01-11T23:24:10.809771",
     "status": "completed"
    },
    "tags": []
   },
   "outputs": [],
   "source": [
    "#val_df = pd.read_csv(loc+'validation_data.csv')\n",
    "#val_df.head()"
   ]
  },
  {
   "cell_type": "code",
   "execution_count": 22,
   "id": "15a5d486",
   "metadata": {
    "execution": {
     "iopub.execute_input": "2022-01-11T23:24:11.039459Z",
     "iopub.status.busy": "2022-01-11T23:24:11.038738Z",
     "iopub.status.idle": "2022-01-11T23:24:11.041207Z",
     "shell.execute_reply": "2022-01-11T23:24:11.040530Z"
    },
    "id": "2M1n1TLrU_xp",
    "papermill": {
     "duration": 0.080273,
     "end_time": "2022-01-11T23:24:11.041358",
     "exception": false,
     "start_time": "2022-01-11T23:24:10.961085",
     "status": "completed"
    },
    "tags": []
   },
   "outputs": [],
   "source": [
    "#import pickle\n",
    "#filename = loc+'pca_model.sav'\n",
    "#pickle.dump(pca, open(filename, 'wb'))\n",
    "#filename = loc+\"rf_model.sav\"\n",
    "#pickle.dump(model_lr, open(filename, 'wb'))\n"
   ]
  },
  {
   "cell_type": "code",
   "execution_count": 23,
   "id": "59df2b2e",
   "metadata": {
    "execution": {
     "iopub.execute_input": "2022-01-11T23:24:11.190100Z",
     "iopub.status.busy": "2022-01-11T23:24:11.189410Z",
     "iopub.status.idle": "2022-01-11T23:24:11.193337Z",
     "shell.execute_reply": "2022-01-11T23:24:11.192802Z"
    },
    "id": "MYVthJVqXSFZ",
    "papermill": {
     "duration": 0.07922,
     "end_time": "2022-01-11T23:24:11.193495",
     "exception": false,
     "start_time": "2022-01-11T23:24:11.114275",
     "status": "completed"
    },
    "tags": []
   },
   "outputs": [],
   "source": [
    "#import pickle\n",
    "#from sklearn.decomposition import PCA\n",
    "#from sklearn.ensemble import RandomForestRegressor\n",
    "\n",
    "#pca = pickle.load(open(loc+'pca_model.sav', 'rb'))\n",
    "#model_lr = pickle.load(open(loc+'rf_model.sav', 'rb'))\n"
   ]
  },
  {
   "cell_type": "code",
   "execution_count": 24,
   "id": "92108a67",
   "metadata": {
    "execution": {
     "iopub.execute_input": "2022-01-11T23:24:11.342164Z",
     "iopub.status.busy": "2022-01-11T23:24:11.341499Z",
     "iopub.status.idle": "2022-01-11T23:24:11.344164Z",
     "shell.execute_reply": "2022-01-11T23:24:11.343616Z"
    },
    "id": "WcbW6HEOX6WB",
    "papermill": {
     "duration": 0.078695,
     "end_time": "2022-01-11T23:24:11.344321",
     "exception": false,
     "start_time": "2022-01-11T23:24:11.265626",
     "status": "completed"
    },
    "tags": []
   },
   "outputs": [],
   "source": [
    "#model_lr.score(pca.transform(Xvect),y)"
   ]
  },
  {
   "cell_type": "code",
   "execution_count": 25,
   "id": "b47e71dc",
   "metadata": {
    "execution": {
     "iopub.execute_input": "2022-01-11T23:24:11.491971Z",
     "iopub.status.busy": "2022-01-11T23:24:11.491318Z",
     "iopub.status.idle": "2022-01-11T23:24:11.494218Z",
     "shell.execute_reply": "2022-01-11T23:24:11.494699Z"
    },
    "id": "NhdE1ipJY4Su",
    "papermill": {
     "duration": 0.07846,
     "end_time": "2022-01-11T23:24:11.494895",
     "exception": false,
     "start_time": "2022-01-11T23:24:11.416435",
     "status": "completed"
    },
    "tags": []
   },
   "outputs": [],
   "source": [
    "#filename = loc+\"vect_model.sav\"\n",
    "#pickle.dump(vect, open(filename, 'wb'))"
   ]
  },
  {
   "cell_type": "code",
   "execution_count": 26,
   "id": "aed9e1c6",
   "metadata": {
    "execution": {
     "iopub.execute_input": "2022-01-11T23:24:11.646283Z",
     "iopub.status.busy": "2022-01-11T23:24:11.645587Z",
     "iopub.status.idle": "2022-01-11T23:24:11.648774Z",
     "shell.execute_reply": "2022-01-11T23:24:11.649390Z"
    },
    "id": "Dj1Q7Z-kZIeU",
    "papermill": {
     "duration": 0.080784,
     "end_time": "2022-01-11T23:24:11.649579",
     "exception": false,
     "start_time": "2022-01-11T23:24:11.568795",
     "status": "completed"
    },
    "tags": []
   },
   "outputs": [],
   "source": [
    "#val_df = pd.read_csv(loc+'validation_data.csv')"
   ]
  },
  {
   "cell_type": "code",
   "execution_count": 27,
   "id": "203ca889",
   "metadata": {
    "execution": {
     "iopub.execute_input": "2022-01-11T23:24:11.807662Z",
     "iopub.status.busy": "2022-01-11T23:24:11.806647Z",
     "iopub.status.idle": "2022-01-11T23:24:11.812396Z",
     "shell.execute_reply": "2022-01-11T23:24:11.813315Z"
    },
    "id": "Lw0cQ8_SVxDZ",
    "papermill": {
     "duration": 0.091726,
     "end_time": "2022-01-11T23:24:11.813730",
     "exception": false,
     "start_time": "2022-01-11T23:24:11.722004",
     "status": "completed"
    },
    "tags": []
   },
   "outputs": [],
   "source": [
    "#less_toxic = []\n",
    "#more_toxic = []\n",
    "##from tqdm import tqdm\n",
    "#for a,b in zip(val_df['less_toxic'],val_df['more_toxic']):\n",
    "#    less_toxic.append(' '.join(rmstp(tokenize(text_cleaning(a)))))\n",
    "#    #print(sample_1)\n",
    "#    #pred1.append(model.predict(sample_1.toarray()))\n",
    "#    more_toxic.append(' '.join(rmstp(tokenize(text_cleaning(b)))))"
   ]
  },
  {
   "cell_type": "code",
   "execution_count": 28,
   "id": "3b8c32f7",
   "metadata": {
    "execution": {
     "iopub.execute_input": "2022-01-11T23:24:11.979026Z",
     "iopub.status.busy": "2022-01-11T23:24:11.978031Z",
     "iopub.status.idle": "2022-01-11T23:24:11.980678Z",
     "shell.execute_reply": "2022-01-11T23:24:11.980057Z"
    },
    "id": "Jh5yutjUVxFA",
    "papermill": {
     "duration": 0.079268,
     "end_time": "2022-01-11T23:24:11.980820",
     "exception": false,
     "start_time": "2022-01-11T23:24:11.901552",
     "status": "completed"
    },
    "tags": []
   },
   "outputs": [],
   "source": [
    "#val_df['less_toxic'] = less_toxic\n",
    "#val_vect = vect.transform(less_toxic)\n",
    "#val_vect = pd.DataFrame(val_vect.toarray())"
   ]
  },
  {
   "cell_type": "code",
   "execution_count": 29,
   "id": "efcd137d",
   "metadata": {
    "execution": {
     "iopub.execute_input": "2022-01-11T23:24:12.128736Z",
     "iopub.status.busy": "2022-01-11T23:24:12.127786Z",
     "iopub.status.idle": "2022-01-11T23:24:12.131130Z",
     "shell.execute_reply": "2022-01-11T23:24:12.131710Z"
    },
    "id": "zPpfbBXFVxIW",
    "papermill": {
     "duration": 0.078514,
     "end_time": "2022-01-11T23:24:12.131888",
     "exception": false,
     "start_time": "2022-01-11T23:24:12.053374",
     "status": "completed"
    },
    "tags": []
   },
   "outputs": [],
   "source": [
    "#val_vect_pca_lt = pca.transform(val_vect)\n"
   ]
  },
  {
   "cell_type": "code",
   "execution_count": 30,
   "id": "b2bbc6fc",
   "metadata": {
    "execution": {
     "iopub.execute_input": "2022-01-11T23:24:12.280247Z",
     "iopub.status.busy": "2022-01-11T23:24:12.279372Z",
     "iopub.status.idle": "2022-01-11T23:24:12.281563Z",
     "shell.execute_reply": "2022-01-11T23:24:12.282148Z"
    },
    "id": "jjz7-rbiVxKC",
    "papermill": {
     "duration": 0.078546,
     "end_time": "2022-01-11T23:24:12.282314",
     "exception": false,
     "start_time": "2022-01-11T23:24:12.203768",
     "status": "completed"
    },
    "tags": []
   },
   "outputs": [],
   "source": [
    "#res_lt = model_lr.predict(val_vect_pca_lt)\n"
   ]
  },
  {
   "cell_type": "code",
   "execution_count": 31,
   "id": "9d679e46",
   "metadata": {
    "execution": {
     "iopub.execute_input": "2022-01-11T23:24:12.429272Z",
     "iopub.status.busy": "2022-01-11T23:24:12.428329Z",
     "iopub.status.idle": "2022-01-11T23:24:12.431517Z",
     "shell.execute_reply": "2022-01-11T23:24:12.432103Z"
    },
    "id": "VGtTH4HxWjkd",
    "papermill": {
     "duration": 0.078487,
     "end_time": "2022-01-11T23:24:12.432270",
     "exception": false,
     "start_time": "2022-01-11T23:24:12.353783",
     "status": "completed"
    },
    "tags": []
   },
   "outputs": [],
   "source": [
    "#res_lt"
   ]
  },
  {
   "cell_type": "code",
   "execution_count": 32,
   "id": "3312ea87",
   "metadata": {
    "execution": {
     "iopub.execute_input": "2022-01-11T23:24:12.581206Z",
     "iopub.status.busy": "2022-01-11T23:24:12.580194Z",
     "iopub.status.idle": "2022-01-11T23:24:12.582231Z",
     "shell.execute_reply": "2022-01-11T23:24:12.582813Z"
    },
    "id": "k5x67jR7WjmU",
    "papermill": {
     "duration": 0.078973,
     "end_time": "2022-01-11T23:24:12.582990",
     "exception": false,
     "start_time": "2022-01-11T23:24:12.504017",
     "status": "completed"
    },
    "tags": []
   },
   "outputs": [],
   "source": [
    "#val_df['more_toxic'] = more_toxic\n",
    "#val_vect = vect.transform(more_toxic)\n",
    "#val_vect = pd.DataFrame(val_vect.toarray())\n",
    "#val_vect_pca_mt = pca.transform(val_vect)\n",
    "#res_mt = model_lr.predict(val_vect_pca_mt)\n"
   ]
  },
  {
   "cell_type": "code",
   "execution_count": 33,
   "id": "633d118b",
   "metadata": {
    "execution": {
     "iopub.execute_input": "2022-01-11T23:24:12.732467Z",
     "iopub.status.busy": "2022-01-11T23:24:12.731465Z",
     "iopub.status.idle": "2022-01-11T23:24:12.733424Z",
     "shell.execute_reply": "2022-01-11T23:24:12.734016Z"
    },
    "id": "FWSE2gcDWjpc",
    "papermill": {
     "duration": 0.079024,
     "end_time": "2022-01-11T23:24:12.734176",
     "exception": false,
     "start_time": "2022-01-11T23:24:12.655152",
     "status": "completed"
    },
    "tags": []
   },
   "outputs": [],
   "source": [
    "#cnt = 0\n",
    "#res_class=[]\n",
    "#for a,b in zip(res_lt,res_mt):\n",
    "#    if b>a:\n",
    "#      cnt+=1\n",
    "#      res_class.append(1)\n",
    "#    else:\n",
    "#      res_class.append(0)\n",
    "#print('acc:',cnt/len(val_df))\n"
   ]
  },
  {
   "cell_type": "code",
   "execution_count": 34,
   "id": "c8075a0d",
   "metadata": {
    "execution": {
     "iopub.execute_input": "2022-01-11T23:24:12.883207Z",
     "iopub.status.busy": "2022-01-11T23:24:12.882316Z",
     "iopub.status.idle": "2022-01-11T23:24:12.886125Z",
     "shell.execute_reply": "2022-01-11T23:24:12.886725Z"
    },
    "id": "Mabnmnc8XQFw",
    "papermill": {
     "duration": 0.080176,
     "end_time": "2022-01-11T23:24:12.886884",
     "exception": false,
     "start_time": "2022-01-11T23:24:12.806708",
     "status": "completed"
    },
    "tags": []
   },
   "outputs": [],
   "source": [
    "#0.3824564899694433+0.6171449448651521"
   ]
  },
  {
   "cell_type": "code",
   "execution_count": 35,
   "id": "82d2be49",
   "metadata": {
    "execution": {
     "iopub.execute_input": "2022-01-11T23:24:13.035131Z",
     "iopub.status.busy": "2022-01-11T23:24:13.034173Z",
     "iopub.status.idle": "2022-01-11T23:24:13.037585Z",
     "shell.execute_reply": "2022-01-11T23:24:13.038218Z"
    },
    "id": "BHuKdx_rXQHW",
    "papermill": {
     "duration": 0.079057,
     "end_time": "2022-01-11T23:24:13.038396",
     "exception": false,
     "start_time": "2022-01-11T23:24:12.959339",
     "status": "completed"
    },
    "tags": []
   },
   "outputs": [],
   "source": [
    "#val_df['rf_less_toxic_score'] = res_lt\n",
    "#val_df['rf_more_toxic_score'] = res_mt\n",
    "#val_df['rf_res_class'] = res_class\n",
    "#val_df.to_csv(loc+'results_rf.csv',index=False)"
   ]
  },
  {
   "cell_type": "code",
   "execution_count": null,
   "id": "638e7c3a",
   "metadata": {
    "id": "D4--IGMFXQKM",
    "papermill": {
     "duration": 0.073407,
     "end_time": "2022-01-11T23:24:13.185702",
     "exception": false,
     "start_time": "2022-01-11T23:24:13.112295",
     "status": "completed"
    },
    "tags": []
   },
   "outputs": [],
   "source": []
  },
  {
   "cell_type": "code",
   "execution_count": null,
   "id": "d103f93d",
   "metadata": {
    "id": "FfU_ZmMzXQLi",
    "papermill": {
     "duration": 0.075297,
     "end_time": "2022-01-11T23:24:13.333362",
     "exception": false,
     "start_time": "2022-01-11T23:24:13.258065",
     "status": "completed"
    },
    "tags": []
   },
   "outputs": [],
   "source": []
  },
  {
   "cell_type": "code",
   "execution_count": null,
   "id": "aac122e1",
   "metadata": {
    "id": "57k44QQNXQOT",
    "papermill": {
     "duration": 0.072649,
     "end_time": "2022-01-11T23:24:13.479209",
     "exception": false,
     "start_time": "2022-01-11T23:24:13.406560",
     "status": "completed"
    },
    "tags": []
   },
   "outputs": [],
   "source": []
  },
  {
   "cell_type": "code",
   "execution_count": null,
   "id": "6df66af6",
   "metadata": {
    "id": "WdeuDkdCXQP9",
    "papermill": {
     "duration": 0.073488,
     "end_time": "2022-01-11T23:24:13.625830",
     "exception": false,
     "start_time": "2022-01-11T23:24:13.552342",
     "status": "completed"
    },
    "tags": []
   },
   "outputs": [],
   "source": []
  },
  {
   "cell_type": "code",
   "execution_count": null,
   "id": "7daf3cc1",
   "metadata": {
    "id": "sCCLE5GIWjrW",
    "papermill": {
     "duration": 0.073889,
     "end_time": "2022-01-11T23:24:13.772531",
     "exception": false,
     "start_time": "2022-01-11T23:24:13.698642",
     "status": "completed"
    },
    "tags": []
   },
   "outputs": [],
   "source": []
  },
  {
   "cell_type": "code",
   "execution_count": null,
   "id": "fbadcc74",
   "metadata": {
    "id": "Cs8HpEU_WjvF",
    "papermill": {
     "duration": 0.071597,
     "end_time": "2022-01-11T23:24:13.916846",
     "exception": false,
     "start_time": "2022-01-11T23:24:13.845249",
     "status": "completed"
    },
    "tags": []
   },
   "outputs": [],
   "source": []
  },
  {
   "cell_type": "code",
   "execution_count": null,
   "id": "9e9ce4d7",
   "metadata": {
    "id": "PV55_48UWj1C",
    "papermill": {
     "duration": 0.072161,
     "end_time": "2022-01-11T23:24:14.062799",
     "exception": false,
     "start_time": "2022-01-11T23:24:13.990638",
     "status": "completed"
    },
    "tags": []
   },
   "outputs": [],
   "source": []
  },
  {
   "cell_type": "code",
   "execution_count": 36,
   "id": "42e3b717",
   "metadata": {
    "execution": {
     "iopub.execute_input": "2022-01-11T23:24:14.214293Z",
     "iopub.status.busy": "2022-01-11T23:24:14.213311Z",
     "iopub.status.idle": "2022-01-11T23:24:14.215189Z",
     "shell.execute_reply": "2022-01-11T23:24:14.215768Z"
    },
    "id": "sg6rNLB-78oC",
    "papermill": {
     "duration": 0.079111,
     "end_time": "2022-01-11T23:24:14.215956",
     "exception": false,
     "start_time": "2022-01-11T23:24:14.136845",
     "status": "completed"
    },
    "tags": []
   },
   "outputs": [],
   "source": [
    "#pred1 = []\n",
    "#from tqdm import tqdm\n",
    "#print(\"predictiong for less toxic rows:\")\n",
    "#for text in tqdm(val_df['less_toxic']):\n",
    "#  text1 = vect.transform([' '.join(rmstp(tokenize(text_cleaning(text))))])\n",
    "#  text2 = pd.DataFrame(text1.toarray())\n",
    "#  text3 = pca.transform(text2)\n",
    "#  pred1.append(model_lr.predict(text3)[0])"
   ]
  },
  {
   "cell_type": "code",
   "execution_count": 37,
   "id": "7d1befbd",
   "metadata": {
    "execution": {
     "iopub.execute_input": "2022-01-11T23:24:14.365740Z",
     "iopub.status.busy": "2022-01-11T23:24:14.364837Z",
     "iopub.status.idle": "2022-01-11T23:24:14.367944Z",
     "shell.execute_reply": "2022-01-11T23:24:14.368476Z"
    },
    "id": "JmH01M-0VlF-",
    "papermill": {
     "duration": 0.080254,
     "end_time": "2022-01-11T23:24:14.368630",
     "exception": false,
     "start_time": "2022-01-11T23:24:14.288376",
     "status": "completed"
    },
    "tags": []
   },
   "outputs": [],
   "source": [
    "#from google.colab import drive\n",
    "#drive.mount('/content/drive')"
   ]
  },
  {
   "cell_type": "code",
   "execution_count": 38,
   "id": "0e96b7c4",
   "metadata": {
    "execution": {
     "iopub.execute_input": "2022-01-11T23:24:14.517318Z",
     "iopub.status.busy": "2022-01-11T23:24:14.516413Z",
     "iopub.status.idle": "2022-01-11T23:24:14.520883Z",
     "shell.execute_reply": "2022-01-11T23:24:14.520378Z"
    },
    "id": "4LF93OaY78ph",
    "papermill": {
     "duration": 0.079753,
     "end_time": "2022-01-11T23:24:14.521053",
     "exception": false,
     "start_time": "2022-01-11T23:24:14.441300",
     "status": "completed"
    },
    "tags": []
   },
   "outputs": [],
   "source": [
    "#pred2 = []\n",
    "##from tqdm import tqdm\n",
    "#print(\"predictiong for more toxic rows:\")\n",
    "#for text in tqdm(val_df['more_toxic']):\n",
    "#  text1 = vect.transform([' '.join(rmstp(tokenize(text_cleaning(text))))])\n",
    "#  text2 = pd.DataFrame(text1.toarray())\n",
    "#  text3 = pca.transform(text2)\n",
    "#  pred2.append(model_lr.predict(text3)[0])"
   ]
  },
  {
   "cell_type": "code",
   "execution_count": 39,
   "id": "82a00942",
   "metadata": {
    "execution": {
     "iopub.execute_input": "2022-01-11T23:24:14.671420Z",
     "iopub.status.busy": "2022-01-11T23:24:14.670753Z",
     "iopub.status.idle": "2022-01-11T23:24:14.673664Z",
     "shell.execute_reply": "2022-01-11T23:24:14.673166Z"
    },
    "id": "gVSyuY5I78tA",
    "papermill": {
     "duration": 0.079553,
     "end_time": "2022-01-11T23:24:14.673789",
     "exception": false,
     "start_time": "2022-01-11T23:24:14.594236",
     "status": "completed"
    },
    "tags": []
   },
   "outputs": [],
   "source": [
    "#val_df['sc1'] = pred1\n",
    "#val_df['sc2'] = pred2\n",
    "#acc = 0\n",
    "#for i,j in zip(val_df['sc1'],val_df['sc2']):\n",
    "#  if j > i:\n",
    "#    acc+=1\n",
    "#  else:\n",
    "#    pass\n",
    "\n",
    "#print(f\"val accurcay = {acc/len(val_df)}\")"
   ]
  },
  {
   "cell_type": "code",
   "execution_count": null,
   "id": "ce0f25b3",
   "metadata": {
    "id": "uqDct_PzBi-h",
    "papermill": {
     "duration": 0.073468,
     "end_time": "2022-01-11T23:24:14.821530",
     "exception": false,
     "start_time": "2022-01-11T23:24:14.748062",
     "status": "completed"
    },
    "tags": []
   },
   "outputs": [],
   "source": []
  },
  {
   "cell_type": "code",
   "execution_count": null,
   "id": "b9551791",
   "metadata": {
    "id": "pwzaDQ65BjAM",
    "papermill": {
     "duration": 0.073343,
     "end_time": "2022-01-11T23:24:14.969341",
     "exception": false,
     "start_time": "2022-01-11T23:24:14.895998",
     "status": "completed"
    },
    "tags": []
   },
   "outputs": [],
   "source": []
  },
  {
   "cell_type": "code",
   "execution_count": null,
   "id": "910faf9b",
   "metadata": {
    "id": "DlgsiFvbBjDm",
    "papermill": {
     "duration": 0.07354,
     "end_time": "2022-01-11T23:24:15.117122",
     "exception": false,
     "start_time": "2022-01-11T23:24:15.043582",
     "status": "completed"
    },
    "tags": []
   },
   "outputs": [],
   "source": []
  }
 ],
 "metadata": {
  "kernelspec": {
   "display_name": "Python 3",
   "language": "python",
   "name": "python3"
  },
  "language_info": {
   "codemirror_mode": {
    "name": "ipython",
    "version": 3
   },
   "file_extension": ".py",
   "mimetype": "text/x-python",
   "name": "python",
   "nbconvert_exporter": "python",
   "pygments_lexer": "ipython3",
   "version": "3.7.12"
  },
  "papermill": {
   "default_parameters": {},
   "duration": 3754.442429,
   "end_time": "2022-01-11T23:24:17.116690",
   "environment_variables": {},
   "exception": null,
   "input_path": "__notebook__.ipynb",
   "output_path": "__notebook__.ipynb",
   "parameters": {},
   "start_time": "2022-01-11T22:21:42.674261",
   "version": "2.3.3"
  }
 },
 "nbformat": 4,
 "nbformat_minor": 5
}
